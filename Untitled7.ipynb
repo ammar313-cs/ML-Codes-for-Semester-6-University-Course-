{
 "cells": [
  {
   "cell_type": "code",
   "execution_count": 47,
   "id": "d9b12bd1",
   "metadata": {},
   "outputs": [],
   "source": [
    "d ={\n",
    "    'a':[('d',7),('b',11),('c',14)],\n",
    "    'b':[('e',15)],\n",
    "    'c':[('e',8),('f',10)],\n",
    "    'd':[('f',25)],\n",
    "    'e':[('h',9)],\n",
    "    'f':[('g',20)],\n",
    "    'g':[],\n",
    "    'h':[('g',20)]\n",
    "}"
   ]
  },
  {
   "cell_type": "code",
   "execution_count": null,
   "id": "52414d49",
   "metadata": {},
   "outputs": [],
   "source": []
  },
  {
   "cell_type": "code",
   "execution_count": 42,
   "id": "64966053",
   "metadata": {},
   "outputs": [],
   "source": [
    "h_n = {\n",
    "    'a':40,\n",
    "    'b':32,\n",
    "    'c':25,\n",
    "    'd':35,\n",
    "    'e':19,\n",
    "    'f':17,\n",
    "    'g':0,\n",
    "    'h':10\n",
    "    \n",
    "}"
   ]
  },
  {
   "cell_type": "code",
   "execution_count": 43,
   "id": "1f6076cb",
   "metadata": {},
   "outputs": [],
   "source": [
    "def my(x):\n",
    "    return x[1]"
   ]
  },
  {
   "cell_type": "code",
   "execution_count": 44,
   "id": "5c0c902f",
   "metadata": {},
   "outputs": [],
   "source": [
    "def BFS(start,goal): #best first\n",
    "    q = []\n",
    "    start_val = h_n.get(start)\n",
    "    q.append((start,start_val))#append in q in tupple shape\n",
    "    \n",
    "    explored = []\n",
    "    \n",
    "    while len(q)>0:\n",
    "        node = q.pop(0)\n",
    "        \n",
    "        if node[0] not in explored:\n",
    "            explored.append(node[0])\n",
    "        \n",
    "        if node[0] == goal:\n",
    "            print('Goal found: ',explored)\n",
    "            return explored     \n",
    "        child = d.get(node[0])\n",
    "        \n",
    "        for i in child:\n",
    "            n_key =i[0]\n",
    "            n_val =h_n.get(n_key)\n",
    "            \n",
    "            n_tuple = n_key,n_val\n",
    "            \n",
    "            if i[0]not in explored:\n",
    "                q.append(n_tuple)\n",
    "         \n",
    "        q = sorted(q,key = my) #q = sorted(q, key=lambda x: x[1])\n",
    "        \n",
    "    return explored "
   ]
  },
  {
   "cell_type": "code",
   "execution_count": 45,
   "id": "9835b88b",
   "metadata": {},
   "outputs": [
    {
     "name": "stdout",
     "output_type": "stream",
     "text": [
      "Goal found:  ['a', 'c', 'f', 'g']\n"
     ]
    },
    {
     "data": {
      "text/plain": [
       "['a', 'c', 'f', 'g']"
      ]
     },
     "execution_count": 45,
     "metadata": {},
     "output_type": "execute_result"
    }
   ],
   "source": [
    "BFS('a','g')"
   ]
  },
  {
   "cell_type": "code",
   "execution_count": 96,
   "id": "3344b607",
   "metadata": {},
   "outputs": [],
   "source": [
    "import heapq\n",
    "\n",
    "d1 = {\n",
    "    'a':[('c',3),('b',4)],\n",
    "    'b':[('e',12),('f',5)],\n",
    "    'c':[('d',7),('e',10)],\n",
    "    'd':[('e',2)],\n",
    "    'e':[('g',0)],\n",
    "    'f':[('g',16)],\n",
    "    'g':[]\n",
    "}\n",
    "\n",
    "h_n1= {\n",
    "    'a':14,\n",
    "    'b':12,\n",
    "    'c':11,\n",
    "    'd':6,\n",
    "    'e':4,\n",
    "    'f':11,\n",
    "    'g':0\n",
    "}\n",
    "\n",
    "def AStar(start,goal):\n",
    "    q =[]\n",
    "    start_val = d.get(start)\n",
    "    for i in start_val:\n",
    "        q.append((i[0],i[1]+h_n.get(i[0])))\n",
    "    print(q)\n",
    "    q = sorted(q,key = lambda tup : tup[1])\n",
    "    explored = [start]\n",
    "    \n",
    "    while len(q)>0:\n",
    "        node = q.pop(0)\n",
    "        \n",
    "        if node not in explored:\n",
    "            explored.append(node[0])\n",
    "            \n",
    "        if node[0] == goal:\n",
    "            print(f'Goal Found: {explored}')\n",
    "            return explored\n",
    "        \n",
    "        child = d1.get(node[0])\n",
    "        for i in child:\n",
    "            n_key = i[0]\n",
    "            n_val = h_n1.get(n_key) + i[1]\n",
    "            n_tuple = n_key,n_val\n",
    "            if n_key not in explored:\n",
    "                q.append(n_tuple)\n",
    "        q = sorted(q,key = lambda tup : tup[1])\n"
   ]
  },
  {
   "cell_type": "code",
   "execution_count": 98,
   "id": "3097360a",
   "metadata": {},
   "outputs": [
    {
     "name": "stdout",
     "output_type": "stream",
     "text": [
      "[('c', 14), ('b', 16)]\n",
      "Goal Found: ['a', 'c', 'd', 'e', 'g']\n"
     ]
    },
    {
     "data": {
      "text/plain": [
       "['a', 'c', 'd', 'e', 'g']"
      ]
     },
     "execution_count": 98,
     "metadata": {},
     "output_type": "execute_result"
    }
   ],
   "source": [
    "AStar('a','g')"
   ]
  },
  {
   "cell_type": "code",
   "execution_count": null,
   "id": "8da3eb50",
   "metadata": {},
   "outputs": [],
   "source": []
  },
  {
   "cell_type": "code",
   "execution_count": null,
   "id": "398855b8",
   "metadata": {},
   "outputs": [],
   "source": []
  },
  {
   "cell_type": "code",
   "execution_count": null,
   "id": "ffd23268",
   "metadata": {},
   "outputs": [],
   "source": []
  },
  {
   "cell_type": "code",
   "execution_count": null,
   "id": "cd6f5d7e",
   "metadata": {},
   "outputs": [],
   "source": []
  },
  {
   "cell_type": "code",
   "execution_count": null,
   "id": "d8d9fb2e",
   "metadata": {},
   "outputs": [],
   "source": []
  },
  {
   "cell_type": "code",
   "execution_count": null,
   "id": "63d46a1f",
   "metadata": {},
   "outputs": [],
   "source": []
  }
 ],
 "metadata": {
  "kernelspec": {
   "display_name": "Python 3 (ipykernel)",
   "language": "python",
   "name": "python3"
  },
  "language_info": {
   "codemirror_mode": {
    "name": "ipython",
    "version": 3
   },
   "file_extension": ".py",
   "mimetype": "text/x-python",
   "name": "python",
   "nbconvert_exporter": "python",
   "pygments_lexer": "ipython3",
   "version": "3.9.13"
  }
 },
 "nbformat": 4,
 "nbformat_minor": 5
}
