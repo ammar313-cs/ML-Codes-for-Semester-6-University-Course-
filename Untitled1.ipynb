{
 "cells": [
  {
   "cell_type": "code",
   "execution_count": 78,
   "id": "e55754ed",
   "metadata": {},
   "outputs": [],
   "source": [
    "import random\n",
    "\n",
    "def hill_climbing(cities, distances):\n",
    "    # Initialize the current solution\n",
    "    current_route = list(range(len(cities)))\n",
    "    print(\"c_r:\",current_route)\n",
    "    \n",
    "    random.shuffle(current_route)\n",
    "    print(\"c_r.shuf:\",current_route)\n",
    "    \n",
    "    current_distance = calculate_distance(current_route, distances)\n",
    "    print(\"c_d:\",current_distance)\n",
    "\n",
    "    while True:\n",
    "        # Define the neighborhood by swapping two adjacent cities\n",
    "        neighborhood = [\n",
    "                        current_route[:i] + [current_route[i+1], \n",
    "                        current_route[i]] + current_route[i+2:] \n",
    "                        for i in range(len(cities)-1)\n",
    "                       ]\n",
    "        print(f\"nhood:{neighborhood}\")\n",
    "        \n",
    "        # Evaluate the solutions in the neighborhood\n",
    "        neighborhood_distances = [\n",
    "            calculate_distance(route, distances) \n",
    "            for route in neighborhood\n",
    "        ]\n",
    "        print(\"n_d:\",neighborhood_distances)\n",
    "        \n",
    "        # Select the best solution\n",
    "        best_distance = min(neighborhood_distances)\n",
    "        print(\"b_d:\",best_distance)\n",
    "        \n",
    "        if best_distance >= current_distance:\n",
    "            break\n",
    "        best_index = neighborhood_distances.index(best_distance)\n",
    "        print(\"ind:\",best_index)\n",
    "        current_route = neighborhood[best_index]\n",
    "        current_distance = best_distance\n",
    "\n",
    "    return current_route, current_distance\n",
    "\n",
    "def calculate_distance(route, distances):\n",
    "    # Calculate the total distance of a route\n",
    "    total_distance = 0\n",
    "    \n",
    "    \n",
    "    for i in range(len(route)-1):\n",
    "        total_distance += distances[route[i]][route[i+1]]\n",
    "        \n",
    "        \n",
    "    total_distance += distances[route[-1]][route[0]]\n",
    "    \n",
    "    \n",
    "    return total_distance"
   ]
  },
  {
   "cell_type": "code",
   "execution_count": 79,
   "id": "220433ae",
   "metadata": {},
   "outputs": [
    {
     "name": "stdout",
     "output_type": "stream",
     "text": [
      "c_r: [0, 1, 2, 3]\n",
      "c_r.shuf: [2, 3, 0, 1]\n",
      "c_d: 7249\n",
      "nhood:[[3, 2, 0, 1], [2, 0, 3, 1], [2, 3, 1, 0]]\n",
      "n_d: [6208, 5709, 6208]\n",
      "b_d: 5709\n",
      "ind: 1\n",
      "nhood:[[0, 2, 3, 1], [2, 3, 0, 1], [2, 0, 1, 3]]\n",
      "n_d: [6208, 7249, 6208]\n",
      "b_d: 6208\n",
      "Shortest route: ['Chicago', 'New York', 'Houston', 'Los Angeles']\n",
      "Shortest distance: 5709\n"
     ]
    }
   ],
   "source": [
    "cities = ['New York', 'Los Angeles', 'Chicago', 'Houston']\n",
    "distances = [    [0, 2789, 790, 1631],\n",
    "    [2789, 0, 1744, 1544],\n",
    "    [790, 1744, 0, 1085],\n",
    "    [1631, 1544, 1085, 0]\n",
    "]\n",
    "route, distance = hill_climbing(cities, distances)\n",
    "print('Shortest route:', [cities[i] for i in route])\n",
    "print('Shortest distance:', distance)\n"
   ]
  },
  {
   "cell_type": "code",
   "execution_count": 113,
   "id": "c1b0eb34",
   "metadata": {},
   "outputs": [],
   "source": [
    "def my_hill_c11(cities,distance):\n",
    "    curr_route = list(range(len(cities)))\n",
    "    random.shuffle(curr_route)\n",
    "    curr_dist = calculate_distance(curr_route,distance)\n",
    "    \n",
    "    while True:\n",
    "        \n",
    "        neighborhood = [\n",
    "            curr_route[:i] + \n",
    "            [curr_route[i+1], curr_route[i]] \n",
    "            + curr_route[i+2:] \n",
    "            for i in range(len(cities)-1)\n",
    "                       ]\n",
    "        print(f'neighborhood:{neighborhood}\\n')\n",
    "        \n",
    "        neighborhood_distances = [\n",
    "            calculate_distance(route, distances) \n",
    "            for route in neighborhood\n",
    "        ]\n",
    "         \n",
    "        best_dis = min(neighborhood_distances)\n",
    "        \n",
    "        if best_dis  >= curr_dist:\n",
    "            break\n",
    "            \n",
    "        best_indx = neighborhood_distances.index(best_dis)\n",
    "        curr_route = neighborhood[best_indx]    \n",
    "        curr_dist = best_dis\n",
    "    \n",
    "    return curr_route , curr_dist\n",
    "        \n",
    "        \n",
    "        \n",
    "        \n",
    "        \n",
    "    \n",
    "    "
   ]
  },
  {
   "cell_type": "code",
   "execution_count": 114,
   "id": "134a3165",
   "metadata": {},
   "outputs": [
    {
     "name": "stdout",
     "output_type": "stream",
     "text": [
      "neighborhood:[[0, 1, 2, 3], [1, 2, 0, 3], [1, 0, 3, 2]]\n",
      "\n",
      "neighborhood:[[2, 1, 0, 3], [1, 0, 2, 3], [1, 2, 3, 0]]\n",
      "\n",
      "\n",
      "Shortest route: ['Los Angeles', 'Chicago', 'New York', 'Houston']\n",
      "\n",
      "Shortest distance: 5709\n"
     ]
    }
   ],
   "source": [
    "route, distance = my_hill_c11(cities, distances)\n",
    "print('\\nShortest route:', [cities[i] for i in route])\n",
    "print('\\nShortest distance:', distance)"
   ]
  },
  {
   "cell_type": "code",
   "execution_count": null,
   "id": "0d4a8a78",
   "metadata": {},
   "outputs": [],
   "source": []
  }
 ],
 "metadata": {
  "kernelspec": {
   "display_name": "Python 3 (ipykernel)",
   "language": "python",
   "name": "python3"
  },
  "language_info": {
   "codemirror_mode": {
    "name": "ipython",
    "version": 3
   },
   "file_extension": ".py",
   "mimetype": "text/x-python",
   "name": "python",
   "nbconvert_exporter": "python",
   "pygments_lexer": "ipython3",
   "version": "3.9.13"
  }
 },
 "nbformat": 4,
 "nbformat_minor": 5
}
