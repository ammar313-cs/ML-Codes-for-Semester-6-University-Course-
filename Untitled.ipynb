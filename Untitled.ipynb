{
 "cells": [
  {
   "cell_type": "code",
   "execution_count": 14,
   "id": "e61c7f54",
   "metadata": {},
   "outputs": [],
   "source": [
    "import random as rand\n",
    "\n",
    "class Node:\n",
    "    \n",
    "    def __init__(self,data):\n",
    "        \n",
    "        self.left = None \n",
    "        self.right = None\n",
    "        self.data = data\n",
    "        \n",
    "    \n",
    "    def insert(self,data):\n",
    "        \n",
    "        if self.data:\n",
    "            if data < self.data:\n",
    "                if self.left  is None:\n",
    "                    self.left = Node(data)\n",
    "                else:\n",
    "                    self.left.insert(data)\n",
    "            elif data > self.data:\n",
    "                if self.right is None:\n",
    "                    self.right = Node(data)\n",
    "                else:\n",
    "                    self.right.insert(data)\n",
    "        else:\n",
    "            self.data = data \n",
    "            \n",
    "    \n",
    "    def printTree(self):\n",
    "        if self.left:\n",
    "            self.left.printTree()\n",
    "            print(\"left\",self.left.data)\n",
    "        \n",
    "        #print(self.data)\n",
    "        \n",
    "        \n",
    "        if self.right:\n",
    "            self.right.printTree()\n",
    "            print(\"right\",self.right.data)\n",
    "            \n",
    "    \n",
    "    def ifNodeExisits(Node,key): \n",
    "        \n",
    "        if Node == None:\n",
    "            return False\n",
    "        if(Node.data == key):\n",
    "            return True \n",
    "        \n",
    "        res1 = ifNodeExisits(Node.left,key)\n",
    "        \n",
    "        if res1:\n",
    "            return True \n",
    "        \n",
    "        res2 = ifNodeExisits(Node.right,key)\n",
    "        \n",
    "        return res2\n",
    "    \n",
    "\n",
    "        \n",
    "                    "
   ]
  },
  {
   "cell_type": "code",
   "execution_count": 129,
   "id": "90a10192",
   "metadata": {},
   "outputs": [],
   "source": [
    "root = Node(rand.randint(0,30))\n"
   ]
  },
  {
   "cell_type": "code",
   "execution_count": 130,
   "id": "2f515ad6",
   "metadata": {},
   "outputs": [],
   "source": [
    "\n",
    "for i in range(0,11):\n",
    "    x = rand.randint(0,30)\n",
    "    \n",
    "    #x = rand.randint(0,20)\n",
    "    root.insert(x)"
   ]
  },
  {
   "cell_type": "code",
   "execution_count": 131,
   "id": "4b12579c",
   "metadata": {},
   "outputs": [
    {
     "name": "stdout",
     "output_type": "stream",
     "text": [
      "left 4\n",
      "right 7\n",
      "left 2\n",
      "left 19\n",
      "right 28\n",
      "right 20\n",
      "right 17\n",
      "right 16\n"
     ]
    }
   ],
   "source": [
    "root.printTree()\n"
   ]
  },
  {
   "cell_type": "code",
   "execution_count": 140,
   "id": "c5e0cfa8",
   "metadata": {},
   "outputs": [],
   "source": [
    "def convert_num(q):\n",
    "    w =[]\n",
    "    for i in q:\n",
    "        w.append(i.data)\n",
    "    return w\n",
    "\n",
    "def BFS(root:Node,goal):\n",
    "    if root is None:\n",
    "        print(\"fail\")\n",
    "        return \n",
    "    \n",
    "    q = []\n",
    "    explored = []\n",
    "    q.append(root)\n",
    "    \n",
    "    while len(q) != 0:\n",
    "        node = q.pop(0)\n",
    "        \n",
    "        \n",
    "        if node not in explored:\n",
    "            explored.append(node)\n",
    "        \n",
    "        if node.data == goal:\n",
    "            print(f'Goal:{goal}')\n",
    "            return convert_num(explored)\n",
    "        \n",
    "        if node.left is not None:\n",
    "            q.append(node.left)\n",
    "        \n",
    "        if node.right is not None:\n",
    "            q.append(node.right)"
   ]
  },
  {
   "cell_type": "code",
   "execution_count": 141,
   "id": "2e5391da",
   "metadata": {},
   "outputs": [],
   "source": [
    "\n",
    "            "
   ]
  },
  {
   "cell_type": "code",
   "execution_count": 142,
   "id": "0787a016",
   "metadata": {},
   "outputs": [
    {
     "name": "stdout",
     "output_type": "stream",
     "text": [
      "Goal:28\n",
      "[1, 16, 2, 17, 7, 20, 4, 19, 28]\n"
     ]
    }
   ],
   "source": [
    "q = []\n",
    "\n",
    "q = BFS(root,28)\n",
    "print(q)"
   ]
  },
  {
   "cell_type": "code",
   "execution_count": 143,
   "id": "5114e0d4",
   "metadata": {},
   "outputs": [],
   "source": [
    "def DFS(root:Node,goal):\n",
    "    q=[]\n",
    "    explord =[]\n",
    "    q.append(root)\n",
    "    while len(q)!=0:\n",
    "        node = q.pop()\n",
    "\n",
    "        if node not in explord:\n",
    "            explord.append(node)\n",
    "\n",
    "        if node.data == goal:\n",
    "            print(f'GOAL: {goal}')\n",
    "            return (convert_num(explord))\n",
    "        \n",
    "        if node.right is not None:\n",
    "            q.append(node.right)\n",
    "        if node.left is not None:\n",
    "            q.append(node.left)\n"
   ]
  },
  {
   "cell_type": "code",
   "execution_count": 144,
   "id": "56056cb3",
   "metadata": {},
   "outputs": [
    {
     "name": "stdout",
     "output_type": "stream",
     "text": [
      "GOAL: 28\n",
      "[1, 16, 2, 7, 4, 17, 20, 19, 28]\n"
     ]
    }
   ],
   "source": [
    "q = []\n",
    "\n",
    "q = DFS(root,28)\n",
    "print(q)"
   ]
  },
  {
   "cell_type": "code",
   "execution_count": 157,
   "id": "789ebba7",
   "metadata": {},
   "outputs": [],
   "source": [
    "def bfs(root:Node):\n",
    "    if root is None:\n",
    "        return \n",
    "    q = []\n",
    "    q.append(root)\n",
    "    \n",
    "    while(len(q) != 0):\n",
    "        cur_node = q.pop(0)\n",
    "        \n",
    "        for i in q:\n",
    "            print(i.data, end=\" \")\n",
    "        \n",
    "        if cur_node.left is not None:\n",
    "            q.append(cur_node.left)\n",
    "\n",
    "        if cur_node.right is not None:\n",
    "            q.append(cur_node.right)"
   ]
  },
  {
   "cell_type": "code",
   "execution_count": 158,
   "id": "5efb7aed",
   "metadata": {},
   "outputs": [],
   "source": [
    "bfs(root)"
   ]
  },
  {
   "cell_type": "code",
   "execution_count": null,
   "id": "06a8a8bb",
   "metadata": {},
   "outputs": [],
   "source": []
  },
  {
   "cell_type": "code",
   "execution_count": null,
   "id": "d00f03a6",
   "metadata": {},
   "outputs": [],
   "source": []
  }
 ],
 "metadata": {
  "kernelspec": {
   "display_name": "Python 3 (ipykernel)",
   "language": "python",
   "name": "python3"
  },
  "language_info": {
   "codemirror_mode": {
    "name": "ipython",
    "version": 3
   },
   "file_extension": ".py",
   "mimetype": "text/x-python",
   "name": "python",
   "nbconvert_exporter": "python",
   "pygments_lexer": "ipython3",
   "version": "3.9.13"
  }
 },
 "nbformat": 4,
 "nbformat_minor": 5
}
