{
 "cells": [
  {
   "cell_type": "markdown",
   "id": "64486856",
   "metadata": {},
   "source": [
    "# Lab 3 Tasks:\n"
   ]
  },
  {
   "cell_type": "code",
   "execution_count": 1,
   "id": "9dbc219c",
   "metadata": {},
   "outputs": [],
   "source": [
    "d = {\n",
    "    'a':[('c',3),('b',4)],\n",
    "    'b':[('e',12),('f',5)],\n",
    "    'c':[('d',7),('e',10)],\n",
    "    'd':[('e',2)],\n",
    "    'e':[('g',0)],\n",
    "    'f':[('g',16)],\n",
    "    'g':[]\n",
    "}\n",
    "\n",
    "h_n= {\n",
    "    'a':14,\n",
    "    'b':12,\n",
    "    'c':11,\n",
    "    'd':6,\n",
    "    'e':4,\n",
    "    'f':11,\n",
    "    'g':0\n",
    "}"
   ]
  },
  {
   "cell_type": "markdown",
   "id": "48af9230",
   "metadata": {},
   "source": [
    "## A* Search :\n"
   ]
  },
  {
   "cell_type": "code",
   "execution_count": 28,
   "id": "eb3ce449",
   "metadata": {},
   "outputs": [],
   "source": [
    "def A_Star(start,goal):\n",
    "    q =[]\n",
    "    start_val = d.get(start)\n",
    "    for i in start_val:\n",
    "        q.append((i[0],i[1]+h_n.get(i[0])))\n",
    "    print(q)\n",
    "    q = sorted(q,key = lambda tup : tup[1])\n",
    "    explored = [start]\n",
    "    \n",
    "    while len(q)>0:\n",
    "        node = q.pop(0)\n",
    "        \n",
    "        if node not in explored:\n",
    "            explored.append(node[0])\n",
    "        if node[0] == goal:\n",
    "            print(f'Goal Found: {explored}')\n",
    "            return explored\n",
    "        child = d.get(node[0])\n",
    "        for i in child:\n",
    "            n_key = i[0]\n",
    "            n_val = h_n.get(n_key) + i[1]\n",
    "            n_tuple = n_key,n_val\n",
    "            if n_key not in explored:\n",
    "                q.append(n_tuple)\n",
    "        q = sorted(q,key = lambda tup : tup[1])"
   ]
  },
  {
   "cell_type": "code",
   "execution_count": 29,
   "id": "1bd36ca1",
   "metadata": {},
   "outputs": [
    {
     "name": "stdout",
     "output_type": "stream",
     "text": [
      "[('c', 14), ('b', 16)]\n",
      "Goal Found: ['a', 'c', 'd', 'e', 'g']\n"
     ]
    },
    {
     "data": {
      "text/plain": [
       "['a', 'c', 'd', 'e', 'g']"
      ]
     },
     "execution_count": 29,
     "metadata": {},
     "output_type": "execute_result"
    }
   ],
   "source": [
    "A_Star('a','g')"
   ]
  },
  {
   "cell_type": "code",
   "execution_count": null,
   "id": "4e6ee7c9",
   "metadata": {},
   "outputs": [],
   "source": []
  }
 ],
 "metadata": {
  "kernelspec": {
   "display_name": "Python 3 (ipykernel)",
   "language": "python",
   "name": "python3"
  },
  "language_info": {
   "codemirror_mode": {
    "name": "ipython",
    "version": 3
   },
   "file_extension": ".py",
   "mimetype": "text/x-python",
   "name": "python",
   "nbconvert_exporter": "python",
   "pygments_lexer": "ipython3",
   "version": "3.9.13"
  }
 },
 "nbformat": 4,
 "nbformat_minor": 5
}
